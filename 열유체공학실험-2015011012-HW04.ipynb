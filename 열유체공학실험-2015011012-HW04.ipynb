{
  "nbformat": 4,
  "nbformat_minor": 0,
  "metadata": {
    "colab": {
      "name": "Untitled2.ipynb",
      "provenance": [],
      "collapsed_sections": [],
      "include_colab_link": true
    },
    "kernelspec": {
      "name": "python3",
      "display_name": "Python 3"
    },
    "accelerator": "GPU"
  },
  "cells": [
    {
      "cell_type": "markdown",
      "metadata": {
        "id": "view-in-github",
        "colab_type": "text"
      },
      "source": [
        "<a href=\"https://colab.research.google.com/github/leess0980/Homework/blob/master/%EC%97%B4%EC%9C%A0%EC%B2%B4%EA%B3%B5%ED%95%99%EC%8B%A4%ED%97%98-2015011012-HW04.ipynb\" target=\"_parent\"><img src=\"https://colab.research.google.com/assets/colab-badge.svg\" alt=\"Open In Colab\"/></a>"
      ]
    },
    {
      "cell_type": "code",
      "metadata": {
        "id": "VPJ95ACaR0JI",
        "colab_type": "code",
        "outputId": "9ff019ce-d301-4f53-eaa4-547eee3f0e96",
        "colab": {
          "base_uri": "https://localhost:8080/",
          "height": 215
        }
      },
      "source": [
        "a_1=int(input('숫자를 입력하시오.'))\n",
        "def multiple_1(a_1):\n",
        "  for i in range(1,10):\n",
        "    a = a_1\n",
        "    a *= i\n",
        "    print(a)\n",
        "\n",
        "\n",
        "multiple_1(a_1)\n",
        "\n",
        "%timeit multiple_1"
      ],
      "execution_count": 0,
      "outputs": [
        {
          "output_type": "stream",
          "text": [
            "숫자를 입력하시오.2\n",
            "2\n",
            "4\n",
            "6\n",
            "8\n",
            "10\n",
            "12\n",
            "14\n",
            "16\n",
            "18\n",
            "10000000 loops, best of 3: 21.7 ns per loop\n"
          ],
          "name": "stdout"
        }
      ]
    },
    {
      "cell_type": "code",
      "metadata": {
        "id": "AZGAzlRsS_nj",
        "colab_type": "code",
        "outputId": "b470885d-3eae-4b44-dd4a-41cf1b94371a",
        "colab": {
          "base_uri": "https://localhost:8080/",
          "height": 215
        }
      },
      "source": [
        "import numpy as np\n",
        "\n",
        "a_2=int(input(\"숫자를 입력하시오.\"))\n",
        "def multiple_2(a_2):\n",
        "  x1 = np.arange(1, 10)\n",
        "  x2 = x1.reshape(9, 1)\n",
        "  print(a_2*x2)\n",
        "\n",
        "multiple_2(a_2)\n",
        "\n",
        "%timeit multiple_2"
      ],
      "execution_count": 0,
      "outputs": [
        {
          "output_type": "stream",
          "text": [
            "숫자를 입력하시오.2\n",
            "[[ 2]\n",
            " [ 4]\n",
            " [ 6]\n",
            " [ 8]\n",
            " [10]\n",
            " [12]\n",
            " [14]\n",
            " [16]\n",
            " [18]]\n",
            "100000000 loops, best of 3: 18.3 ns per loop\n"
          ],
          "name": "stdout"
        }
      ]
    },
    {
      "cell_type": "code",
      "metadata": {
        "id": "fB6WcshBW5LM",
        "colab_type": "code",
        "outputId": "1efe09ca-1cc6-4c28-bbda-44fed13fdfab",
        "colab": {
          "base_uri": "https://localhost:8080/",
          "height": 215
        }
      },
      "source": [
        "import numba\n",
        "a_3=int(input('숫자를 입력하시오.'))\n",
        "@numba.jit\n",
        "def multiple_3(a_3):\n",
        "  for i in range(1,10):\n",
        "    a = a_3\n",
        "    a *= i\n",
        "    print(a)\n",
        "\n",
        "multiple_3(a_3)\n",
        "\n",
        "%timeit multiple_3"
      ],
      "execution_count": 0,
      "outputs": [
        {
          "output_type": "stream",
          "text": [
            "숫자를 입력하시오.2\n",
            "2\n",
            "4\n",
            "6\n",
            "8\n",
            "10\n",
            "12\n",
            "14\n",
            "16\n",
            "18\n",
            "10000000 loops, best of 3: 20.2 ns per loop\n"
          ],
          "name": "stdout"
        }
      ]
    },
    {
      "cell_type": "code",
      "metadata": {
        "id": "tR1BmY4XToyg",
        "colab_type": "code",
        "outputId": "bc133e20-ef44-4783-9507-f0d044ff32eb",
        "colab": {
          "base_uri": "https://localhost:8080/",
          "height": 215
        }
      },
      "source": [
        "import math\n",
        "import os\n",
        "os.environ['NUMBAPRO_LIBDEVICE'] = \"/usr/local/cuda-10.1/nvvm/libdevice\"\n",
        "os.environ['NUMBAPRO_NVVM'] = \"/usr/local/cuda-10.1/nvvm/lib64/libnvvm.so\"\n",
        "\n",
        "import numpy as np\n",
        "from numba import vectorize, cuda\n",
        "\n",
        "import numpy as np\n",
        "\n",
        "a_4=int(input('숫자를 입력하시오.'))\n",
        "x_0 = np.arange(1, 10)\n",
        "x = x_0.reshape(9, 1)\n",
        "\n",
        "@vectorize(['int64(int64, int64)','int64(int64, int64)'], target='cuda')\n",
        "def multiple_4(a_4, x):\n",
        "  return a_4*x\n",
        "\n",
        "print(multiple_4(a_4, x))\n",
        "\n",
        "%timeit multiple_4"
      ],
      "execution_count": 10,
      "outputs": [
        {
          "output_type": "stream",
          "text": [
            "숫자를 입력하시오.2\n",
            "[[ 2]\n",
            " [ 4]\n",
            " [ 6]\n",
            " [ 8]\n",
            " [10]\n",
            " [12]\n",
            " [14]\n",
            " [16]\n",
            " [18]]\n",
            "100000000 loops, best of 3: 15.3 ns per loop\n"
          ],
          "name": "stdout"
        }
      ]
    }
  ]
}